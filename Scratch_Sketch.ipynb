{
  "nbformat": 4,
  "nbformat_minor": 0,
  "metadata": {
    "colab": {
      "name": "Scratch_Sketch.ipynb",
      "provenance": [],
      "collapsed_sections": [],
      "include_colab_link": true
    },
    "kernelspec": {
      "name": "python3",
      "display_name": "Python 3"
    },
    "accelerator": "GPU"
  },
  "cells": [
    {
      "cell_type": "markdown",
      "metadata": {
        "id": "view-in-github",
        "colab_type": "text"
      },
      "source": [
        "<a href=\"https://colab.research.google.com/github/harshithap99/Hand_drawn_Sketch_recognition/blob/main/Scratch_Sketch.ipynb\" target=\"_parent\"><img src=\"https://colab.research.google.com/assets/colab-badge.svg\" alt=\"Open In Colab\"/></a>"
      ]
    },
    {
      "cell_type": "code",
      "metadata": {
        "id": "SxIE4sTyEVbx",
        "outputId": "919e0082-7401-456a-ab55-919fe0e27585",
        "colab": {
          "base_uri": "https://localhost:8080/"
        }
      },
      "source": [
        "from google.colab import drive\n",
        "drive.mount('/content/drive')"
      ],
      "execution_count": null,
      "outputs": [
        {
          "output_type": "stream",
          "text": [
            "Mounted at /content/drive\n"
          ],
          "name": "stdout"
        }
      ]
    },
    {
      "cell_type": "code",
      "metadata": {
        "id": "L2a_N70qFokZ"
      },
      "source": [
        "import numpy as np \n",
        "import pandas as pd \n",
        "import keras \n",
        "from sklearn.metrics import confusion_matrix\n",
        "import seaborn as sns\n",
        "import tensorflow as tf\n",
        "from tensorflow.keras.callbacks import ModelCheckpoint,ReduceLROnPlateau\n",
        "from keras.optimizers import Adam\n",
        "import matplotlib.pyplot as plt\n",
        "%matplotlib inline\n",
        "import cv2\n",
        "from keras.preprocessing.image import array_to_img, img_to_array, load_img\n",
        "import glob\n",
        "from sklearn.datasets import load_files\n",
        "import os\n",
        "from keras.preprocessing.image import ImageDataGenerator\n",
        "from keras.models import Sequential\n",
        "from keras.layers import Dense,Dropout,Flatten,Conv2D,MaxPool2D,BatchNormalization\n",
        "from keras.utils import np_utils\n",
        "from sklearn.model_selection import  train_test_split"
      ],
      "execution_count": null,
      "outputs": []
    },
    {
      "cell_type": "code",
      "metadata": {
        "id": "qzUivt1FFonD",
        "outputId": "a992f6c2-1891-443a-cfe7-bf5a48ca843c",
        "colab": {
          "base_uri": "https://localhost:8080/"
        }
      },
      "source": [
        "img=glob.glob((\"/content/drive/My Drive/sketch_80/*\"))\n",
        "for i in img:\n",
        "    print(i)"
      ],
      "execution_count": null,
      "outputs": [
        {
          "output_type": "stream",
          "text": [
            "/content/drive/My Drive/sketch_80/cannon\n",
            "/content/drive/My Drive/sketch_80/camera\n",
            "/content/drive/My Drive/sketch_80/castle\n",
            "/content/drive/My Drive/sketch_80/candle\n",
            "/content/drive/My Drive/sketch_80/camel\n",
            "/content/drive/My Drive/sketch_80/canoe\n",
            "/content/drive/My Drive/sketch_80/cell phone\n",
            "/content/drive/My Drive/sketch_80/car (sedan)\n",
            "/content/drive/My Drive/sketch_80/carrot\n",
            "/content/drive/My Drive/sketch_80/cat\n",
            "/content/drive/My Drive/sketch_80/cake\n",
            "/content/drive/My Drive/sketch_80/bush\n",
            "/content/drive/My Drive/sketch_80/butterfly\n",
            "/content/drive/My Drive/sketch_80/bread\n",
            "/content/drive/My Drive/sketch_80/calculator\n",
            "/content/drive/My Drive/sketch_80/bulldozer\n",
            "/content/drive/My Drive/sketch_80/cactus\n",
            "/content/drive/My Drive/sketch_80/cabinet\n",
            "/content/drive/My Drive/sketch_80/bus\n",
            "/content/drive/My Drive/sketch_80/bridge\n",
            "/content/drive/My Drive/sketch_80/bowl\n",
            "/content/drive/My Drive/sketch_80/boomerang\n",
            "/content/drive/My Drive/sketch_80/book\n",
            "/content/drive/My Drive/sketch_80/binoculars\n",
            "/content/drive/My Drive/sketch_80/bookshelf\n",
            "/content/drive/My Drive/sketch_80/blimp\n",
            "/content/drive/My Drive/sketch_80/bottle opener\n",
            "/content/drive/My Drive/sketch_80/bicycle\n",
            "/content/drive/My Drive/sketch_80/brain\n",
            "/content/drive/My Drive/sketch_80/bench\n",
            "/content/drive/My Drive/sketch_80/baseball bat\n",
            "/content/drive/My Drive/sketch_80/bear (animal)\n",
            "/content/drive/My Drive/sketch_80/barn\n",
            "/content/drive/My Drive/sketch_80/bee\n",
            "/content/drive/My Drive/sketch_80/beer-mug\n",
            "/content/drive/My Drive/sketch_80/bed\n",
            "/content/drive/My Drive/sketch_80/bathtub\n",
            "/content/drive/My Drive/sketch_80/bell\n",
            "/content/drive/My Drive/sketch_80/basket\n",
            "/content/drive/My Drive/sketch_80/banana\n",
            "/content/drive/My Drive/sketch_80/axe\n",
            "/content/drive/My Drive/sketch_80/angel\n",
            "/content/drive/My Drive/sketch_80/armchair\n",
            "/content/drive/My Drive/sketch_80/backpack\n",
            "/content/drive/My Drive/sketch_80/arm\n",
            "/content/drive/My Drive/sketch_80/apple\n",
            "/content/drive/My Drive/sketch_80/alarm clock\n",
            "/content/drive/My Drive/sketch_80/ashtray\n",
            "/content/drive/My Drive/sketch_80/ant\n",
            "/content/drive/My Drive/sketch_80/airplane\n",
            "/content/drive/My Drive/sketch_80/church\n",
            "/content/drive/My Drive/sketch_80/cigarette\n",
            "/content/drive/My Drive/sketch_80/chandelier\n",
            "/content/drive/My Drive/sketch_80/cloud\n",
            "/content/drive/My Drive/sketch_80/comb\n",
            "/content/drive/My Drive/sketch_80/computer monitor\n",
            "/content/drive/My Drive/sketch_80/computer-mouse\n",
            "/content/drive/My Drive/sketch_80/couch\n",
            "/content/drive/My Drive/sketch_80/cow\n",
            "/content/drive/My Drive/sketch_80/crab\n",
            "/content/drive/My Drive/sketch_80/crane (machine)\n",
            "/content/drive/My Drive/sketch_80/crocodile\n",
            "/content/drive/My Drive/sketch_80/crown\n",
            "/content/drive/My Drive/sketch_80/cup\n",
            "/content/drive/My Drive/sketch_80/diamond\n",
            "/content/drive/My Drive/sketch_80/dog\n",
            "/content/drive/My Drive/sketch_80/dolphin\n",
            "/content/drive/My Drive/sketch_80/donut\n",
            "/content/drive/My Drive/sketch_80/door\n",
            "/content/drive/My Drive/sketch_80/door handle\n",
            "/content/drive/My Drive/sketch_80/dragon\n",
            "/content/drive/My Drive/sketch_80/duck\n",
            "/content/drive/My Drive/sketch_80/ear\n",
            "/content/drive/My Drive/sketch_80/elephant\n",
            "/content/drive/My Drive/sketch_80/envelope\n",
            "/content/drive/My Drive/sketch_80/eye\n",
            "/content/drive/My Drive/sketch_80/eyeglasses\n",
            "/content/drive/My Drive/sketch_80/face\n",
            "/content/drive/My Drive/sketch_80/feather\n",
            "/content/drive/My Drive/sketch_80/fire hydrant\n"
          ],
          "name": "stdout"
        }
      ]
    },
    {
      "cell_type": "code",
      "metadata": {
        "id": "Owuuw8okFoqO",
        "outputId": "3945a26f-0e6f-47fb-b4d0-6a39efbf6725",
        "colab": {
          "base_uri": "https://localhost:8080/"
        }
      },
      "source": [
        "dir = '/content/drive/My Drive/sketch_80'\n",
        "def load_dataset(path):\n",
        "    data = load_files(path)\n",
        "    files = np.array(data['filenames'])\n",
        "    targets = np.array(data['target'])\n",
        "    target_labels = np.array(data['target_names'])\n",
        "    return files,targets,target_labels\n",
        "    \n",
        "x, y,target_labels = load_dataset(dir)\n",
        "print('Loading complete!')\n",
        "print('Training set size : ' , x.shape[0])"
      ],
      "execution_count": null,
      "outputs": [
        {
          "output_type": "stream",
          "text": [
            "Loading complete!\n",
            "Training set size :  6400\n"
          ],
          "name": "stdout"
        }
      ]
    },
    {
      "cell_type": "code",
      "metadata": {
        "id": "DZqjVoxQFotX",
        "outputId": "0b64818d-ee8f-413d-c2bc-27c4f64415ff",
        "colab": {
          "base_uri": "https://localhost:8080/"
        }
      },
      "source": [
        "no_of_classes = len(np.unique(y))\n",
        "print(target_labels)\n",
        "print(no_of_classes)\n",
        "#print(y)\n",
        "y= np_utils.to_categorical(y,no_of_classes)"
      ],
      "execution_count": null,
      "outputs": [
        {
          "output_type": "stream",
          "text": [
            "['airplane' 'alarm clock' 'angel' 'ant' 'apple' 'arm' 'armchair' 'ashtray'\n",
            " 'axe' 'backpack' 'banana' 'barn' 'baseball bat' 'basket' 'bathtub'\n",
            " 'bear (animal)' 'bed' 'bee' 'beer-mug' 'bell' 'bench' 'bicycle'\n",
            " 'binoculars' 'blimp' 'book' 'bookshelf' 'boomerang' 'bottle opener'\n",
            " 'bowl' 'brain' 'bread' 'bridge' 'bulldozer' 'bus' 'bush' 'butterfly'\n",
            " 'cabinet' 'cactus' 'cake' 'calculator' 'camel' 'camera' 'candle' 'cannon'\n",
            " 'canoe' 'car (sedan)' 'carrot' 'castle' 'cat' 'cell phone' 'chandelier'\n",
            " 'church' 'cigarette' 'cloud' 'comb' 'computer monitor' 'computer-mouse'\n",
            " 'couch' 'cow' 'crab' 'crane (machine)' 'crocodile' 'crown' 'cup'\n",
            " 'diamond' 'dog' 'dolphin' 'donut' 'door' 'door handle' 'dragon' 'duck'\n",
            " 'ear' 'elephant' 'envelope' 'eye' 'eyeglasses' 'face' 'feather'\n",
            " 'fire hydrant']\n",
            "80\n"
          ],
          "name": "stdout"
        }
      ]
    },
    {
      "cell_type": "code",
      "metadata": {
        "id": "DQrcgePjFo2O",
        "outputId": "98c58bc1-347d-4076-be01-c16f248ed819",
        "colab": {
          "base_uri": "https://localhost:8080/"
        }
      },
      "source": [
        "#dividing the entire dataset into training data and validation data\n",
        "X_train,x_val,Y_train,y_val = train_test_split(x,y,test_size=0.18,random_state=42)\n",
        "#dividing the training dataset into training and testing\n",
        "X_train,x_test,Y_train,y_test = train_test_split(X_train,Y_train,test_size=0.22,random_state=42)\n",
        "X_train.shape,Y_train.shape,x_val.shape,y_val.shape,x_test.shape,y_test.shape\n",
        "# sum should result in total\n",
        "print(len(X_train))\n",
        "print(len(x_val))\n",
        "print(len(x_test))"
      ],
      "execution_count": null,
      "outputs": [
        {
          "output_type": "stream",
          "text": [
            "4093\n",
            "1152\n",
            "1155\n"
          ],
          "name": "stdout"
        }
      ]
    },
    {
      "cell_type": "code",
      "metadata": {
        "id": "utzDOpRLFo5f",
        "outputId": "2e279608-9c25-4c83-ebcf-9418489fd4fd",
        "colab": {
          "base_uri": "https://localhost:8080/"
        }
      },
      "source": [
        "default_image_size=tuple((256,256))\n",
        "def convert_image_to_array(files):\n",
        "    images_as_array=[]\n",
        "    for file in files:\n",
        "         # Convert to Numpy Array\n",
        "        image=cv2.imread(file)\n",
        "        if image is not None :\n",
        "          image=cv2.resize(image, default_image_size) \n",
        "          images_as_array.append(img_to_array(image))\n",
        "    return images_as_array\n",
        "\n",
        "X_train = np.array(convert_image_to_array(X_train))\n",
        "x_val = np.array(convert_image_to_array(x_val))\n",
        "x_test = np.array(convert_image_to_array(x_test))\n",
        "print('Validation set shape : ',x_val.shape)\n",
        "print('Training set shape : ',X_train.shape)\n",
        "print('Test set shape : ',x_test.shape)"
      ],
      "execution_count": null,
      "outputs": [
        {
          "output_type": "stream",
          "text": [
            "Validation set shape :  (1152, 256, 256, 3)\n",
            "Training set shape :  (4093, 256, 256, 3)\n",
            "Test set shape :  (1155, 256, 256, 3)\n"
          ],
          "name": "stdout"
        }
      ]
    },
    {
      "cell_type": "code",
      "metadata": {
        "id": "t4AplZnoFo_N"
      },
      "source": [
        "# time to re-scale so that all the pixel values lie within 0 to 1\n",
        "X_train = X_train.astype('float32')/255\n",
        "x_val = x_val.astype('float32')/255\n",
        "x_test = x_test.astype('float32')/255"
      ],
      "execution_count": null,
      "outputs": []
    },
    {
      "cell_type": "code",
      "metadata": {
        "id": "gd6IRH5XFpCe",
        "outputId": "40db4ba0-256f-436c-c4e2-8c1953d86f8c",
        "colab": {
          "base_uri": "https://localhost:8080/",
          "height": 237
        }
      },
      "source": [
        "#Let's visualize the first 10 training images!\n",
        "fig = plt.figure(figsize =(30,5))\n",
        "for i in range(10):\n",
        "    ax = fig.add_subplot(2,5,i+1,xticks=[],yticks=[])\n",
        "    ax.imshow(np.squeeze(X_train[i]))"
      ],
      "execution_count": null,
      "outputs": [
        {
          "output_type": "display_data",
          "data": {
            "image/png": "[encoded data removed]",
            "text/plain": [
              "<Figure size 2160x360 with 10 Axes>"
            ]
          },
          "metadata": {
            "tags": []
          }
        }
      ]
    },
    {
      "cell_type": "code",
      "metadata": {
        "id": "dRMcAXGnFpI8",
        "outputId": "29b57f97-52bd-4432-91a2-6877942015c3",
        "colab": {
          "base_uri": "https://localhost:8080/"
        }
      },
      "source": [
        "from keras.layers import GlobalAveragePooling2D \n",
        "model = Sequential()\n",
        "\n",
        "model.add(Conv2D(64, kernel_size=(3, 3),activation='relu',padding='same',input_shape=(256,256,3)))\n",
        "model.add(MaxPool2D((2, 2),padding='same'))\n",
        "model.add(BatchNormalization())\n",
        "model.add(Dropout(0.25))\n",
        "\n",
        "model.add(Conv2D(64, kernel_size=(3, 3),activation='relu',padding='same',input_shape=(256,256,3)))\n",
        "model.add(MaxPool2D((2, 2),padding='same'))\n",
        "model.add(BatchNormalization())\n",
        "model.add(Dropout(0.25))\n",
        "\n",
        "model.add(Conv2D(128, kernel_size=(3, 3), activation='relu',padding='same'))\n",
        "model.add(MaxPool2D(pool_size=(2, 2),padding='same'))\n",
        "model.add(BatchNormalization())\n",
        "model.add(Dropout(0.25))\n",
        "\n",
        "model.add(Conv2D(128, kernel_size=(3, 3), activation='relu',padding='same'))\n",
        "model.add(MaxPool2D(pool_size=(2, 2),padding='same'))\n",
        "model.add(BatchNormalization())\n",
        "model.add(Dropout(0.25))\n",
        "\n",
        "model.add(Conv2D(256, kernel_size=(3, 3), activation='relu',padding='same'))\n",
        "model.add(MaxPool2D(pool_size=(2, 2),padding='same'))\n",
        "model.add(BatchNormalization())\n",
        "model.add(Dropout(0.25))\n",
        "\n",
        "\n",
        "model.add(Conv2D(256, kernel_size=(3, 3), activation='relu',padding='same'))\n",
        "model.add(MaxPool2D(pool_size=(2, 2),padding='same'))\n",
        "model.add(BatchNormalization())\n",
        "model.add(Dropout(0.25))\n",
        "\n",
        "model.add(GlobalAveragePooling2D())\n",
        "model.add(Dense(1024, activation='relu'))\n",
        "model.add(Dropout(0.2))\n",
        "model.add(BatchNormalization())\n",
        "\n",
        "model.add(Dense(no_of_classes, activation='softmax'))\n",
        "\n",
        "model.summary()"
      ],
      "execution_count": null,
      "outputs": [
        {
          "output_type": "stream",
          "text": [
            "Model: \"sequential\"\n",
            "_________________________________________________________________\n",
            "Layer (type)                 Output Shape              Param #   \n",
            "=================================================================\n",
            "conv2d (Conv2D)              (None, 256, 256, 64)      1792      \n",
            "_________________________________________________________________\n",
            "max_pooling2d (MaxPooling2D) (None, 128, 128, 64)      0         \n",
            "_________________________________________________________________\n",
            "batch_normalization (BatchNo (None, 128, 128, 64)      256       \n",
            "_________________________________________________________________\n",
            "dropout (Dropout)            (None, 128, 128, 64)      0         \n",
            "_________________________________________________________________\n",
            "conv2d_1 (Conv2D)            (None, 128, 128, 128)     73856     \n",
            "_________________________________________________________________\n",
            "max_pooling2d_1 (MaxPooling2 (None, 64, 64, 128)       0         \n",
            "_________________________________________________________________\n",
            "batch_normalization_1 (Batch (None, 64, 64, 128)       512       \n",
            "_________________________________________________________________\n",
            "dropout_1 (Dropout)          (None, 64, 64, 128)       0         \n",
            "_________________________________________________________________\n",
            "conv2d_2 (Conv2D)            (None, 64, 64, 256)       295168    \n",
            "_________________________________________________________________\n",
            "max_pooling2d_2 (MaxPooling2 (None, 32, 32, 256)       0         \n",
            "_________________________________________________________________\n",
            "batch_normalization_2 (Batch (None, 32, 32, 256)       1024      \n",
            "_________________________________________________________________\n",
            "dropout_2 (Dropout)          (None, 32, 32, 256)       0         \n",
            "_________________________________________________________________\n",
            "conv2d_3 (Conv2D)            (None, 32, 32, 256)       590080    \n",
            "_________________________________________________________________\n",
            "max_pooling2d_3 (MaxPooling2 (None, 16, 16, 256)       0         \n",
            "_________________________________________________________________\n",
            "batch_normalization_3 (Batch (None, 16, 16, 256)       1024      \n",
            "_________________________________________________________________\n",
            "dropout_3 (Dropout)          (None, 16, 16, 256)       0         \n",
            "_________________________________________________________________\n",
            "global_average_pooling2d (Gl (None, 256)               0         \n",
            "_________________________________________________________________\n",
            "dense (Dense)                (None, 1024)              263168    \n",
            "_________________________________________________________________\n",
            "dropout_4 (Dropout)          (None, 1024)              0         \n",
            "_________________________________________________________________\n",
            "batch_normalization_4 (Batch (None, 1024)              4096      \n",
            "_________________________________________________________________\n",
            "dense_1 (Dense)              (None, 80)                82000     \n",
            "=================================================================\n",
            "Total params: 1,312,976\n",
            "Trainable params: 1,309,520\n",
            "Non-trainable params: 3,456\n",
            "_________________________________________________________________\n"
          ],
          "name": "stdout"
        }
      ]
    },
    {
      "cell_type": "code",
      "metadata": {
        "id": "JGmGv2CHHlS0"
      },
      "source": [
        "model.compile(loss='categorical_crossentropy',optimizer=Adam(lr=0.001),metrics=['accuracy'])"
      ],
      "execution_count": null,
      "outputs": []
    },
    {
      "cell_type": "code",
      "metadata": {
        "id": "tDZV_q0tHlV9"
      },
      "source": [
        "imagegen = ImageDataGenerator(featurewise_center=False,\n",
        "                             samplewise_center=False,\n",
        "                             featurewise_std_normalization=False,\n",
        "                             samplewise_std_normalization=False,\n",
        "                            rotation_range=60,\n",
        "                              zoom_range=0.1,\n",
        "                              width_shift_range=0.1,\n",
        "                              height_shift_range=0.1,\n",
        "                              shear_range=0.1,\n",
        "                              fill_mode='reflect')\n",
        "imagegen.fit(X_train)"
      ],
      "execution_count": null,
      "outputs": []
    },
    {
      "cell_type": "code",
      "metadata": {
        "id": "qJhRrNqyHlZT",
        "outputId": "bf4c4ae8-9e15-4b0b-a71f-adf6458bb6f5",
        "colab": {
          "base_uri": "https://localhost:8080/"
        }
      },
      "source": [
        "checkpoint = ModelCheckpoint(filepath = 'cnn3.hdf5',monitor='val_accuracy' ,verbose = 1, save_best_only = True)\n",
        "model_dropout = model.fit_generator(imagegen.flow(X_train,Y_train, batch_size=64),epochs=100,verbose=2,\n",
        "                        validation_data=(x_val, y_val),steps_per_epoch=X_train.shape[0] // 32,callbacks=[checkpoint],shuffle=True)"
      ],
      "execution_count": null,
      "outputs": [
        {
          "output_type": "stream",
          "text": [
            "WARNING:tensorflow:From <ipython-input-13-09869fbbcd23>:3: Model.fit_generator (from tensorflow.python.keras.engine.training) is deprecated and will be removed in a future version.\n",
            "Instructions for updating:\n",
            "Please use Model.fit, which supports generators.\n",
            "Epoch 1/99\n",
            "WARNING:tensorflow:Callbacks method `on_train_batch_end` is slow compared to the batch time (batch time: 0.1072s vs `on_train_batch_end` time: 0.1833s). Check your callbacks.\n",
            "WARNING:tensorflow:Callbacks method `on_test_batch_end` is slow compared to the batch time (batch time: 0.0162s vs `on_test_batch_end` time: 0.0289s). Check your callbacks.\n",
            "\n",
            "Epoch 00001: val_accuracy improved from -inf to 0.01476, saving model to cnn3.hdf5\n",
            "63/63 - 58s - loss: 4.3296 - accuracy: 0.0544 - val_loss: 5.7560 - val_accuracy: 0.0148\n",
            "Epoch 2/99\n",
            "\n",
            "Epoch 00002: val_accuracy did not improve from 0.01476\n",
            "63/63 - 57s - loss: 3.9772 - accuracy: 0.0839 - val_loss: 9.7319 - val_accuracy: 0.0095\n",
            "Epoch 3/99\n",
            "\n",
            "Epoch 00003: val_accuracy did not improve from 0.01476\n",
            "63/63 - 58s - loss: 3.8596 - accuracy: 0.0916 - val_loss: 11.6340 - val_accuracy: 0.0139\n",
            "Epoch 4/99\n",
            "\n",
            "Epoch 00004: val_accuracy did not improve from 0.01476\n",
            "63/63 - 58s - loss: 3.6987 - accuracy: 0.1204 - val_loss: 17.5253 - val_accuracy: 0.0148\n",
            "Epoch 5/99\n",
            "\n",
            "Epoch 00005: val_accuracy did not improve from 0.01476\n",
            "63/63 - 58s - loss: 3.6395 - accuracy: 0.1276 - val_loss: 23.9909 - val_accuracy: 0.0095\n",
            "Epoch 6/99\n",
            "\n",
            "Epoch 00006: val_accuracy did not improve from 0.01476\n",
            "63/63 - 57s - loss: 3.4778 - accuracy: 0.1457 - val_loss: 34.9819 - val_accuracy: 0.0095\n",
            "Epoch 7/99\n",
            "\n",
            "Epoch 00007: val_accuracy did not improve from 0.01476\n",
            "63/63 - 57s - loss: 3.3659 - accuracy: 0.1641 - val_loss: 13.2709 - val_accuracy: 0.0087\n",
            "Epoch 8/99\n",
            "\n",
            "Epoch 00008: val_accuracy improved from 0.01476 to 0.01910, saving model to cnn3.hdf5\n",
            "63/63 - 57s - loss: 3.2005 - accuracy: 0.1891 - val_loss: 47.6102 - val_accuracy: 0.0191\n",
            "Epoch 9/99\n",
            "\n",
            "Epoch 00009: val_accuracy did not improve from 0.01910\n",
            "63/63 - 57s - loss: 3.1081 - accuracy: 0.2065 - val_loss: 60.8674 - val_accuracy: 0.0156\n",
            "Epoch 10/99\n",
            "\n",
            "Epoch 00010: val_accuracy did not improve from 0.01910\n",
            "63/63 - 57s - loss: 2.9560 - accuracy: 0.2350 - val_loss: 71.4959 - val_accuracy: 0.0113\n",
            "Epoch 11/99\n",
            "\n",
            "Epoch 00011: val_accuracy improved from 0.01910 to 0.02083, saving model to cnn3.hdf5\n",
            "63/63 - 57s - loss: 2.8633 - accuracy: 0.2623 - val_loss: 74.2618 - val_accuracy: 0.0208\n",
            "Epoch 12/99\n",
            "\n",
            "Epoch 00012: val_accuracy improved from 0.02083 to 0.02170, saving model to cnn3.hdf5\n",
            "63/63 - 56s - loss: 2.7181 - accuracy: 0.2827 - val_loss: 82.4468 - val_accuracy: 0.0217\n",
            "Epoch 13/99\n",
            "\n",
            "Epoch 00013: val_accuracy did not improve from 0.02170\n",
            "63/63 - 56s - loss: 2.6456 - accuracy: 0.3098 - val_loss: 49.2678 - val_accuracy: 0.0148\n",
            "Epoch 14/99\n",
            "\n",
            "Epoch 00014: val_accuracy did not improve from 0.02170\n",
            "63/63 - 56s - loss: 2.5599 - accuracy: 0.3189 - val_loss: 37.3071 - val_accuracy: 0.0208\n",
            "Epoch 15/99\n",
            "\n",
            "Epoch 00015: val_accuracy did not improve from 0.02170\n",
            "63/63 - 56s - loss: 2.4369 - accuracy: 0.3549 - val_loss: 59.4410 - val_accuracy: 0.0217\n",
            "Epoch 16/99\n",
            "\n",
            "Epoch 00016: val_accuracy did not improve from 0.02170\n",
            "63/63 - 56s - loss: 2.3272 - accuracy: 0.3691 - val_loss: 103.8050 - val_accuracy: 0.0148\n",
            "Epoch 17/99\n",
            "\n",
            "Epoch 00017: val_accuracy did not improve from 0.02170\n",
            "63/63 - 56s - loss: 2.2431 - accuracy: 0.3934 - val_loss: 43.1648 - val_accuracy: 0.0182\n",
            "Epoch 18/99\n",
            "\n",
            "Epoch 00018: val_accuracy improved from 0.02170 to 0.02778, saving model to cnn3.hdf5\n",
            "63/63 - 56s - loss: 2.1319 - accuracy: 0.4195 - val_loss: 47.3190 - val_accuracy: 0.0278\n",
            "Epoch 19/99\n",
            "\n",
            "Epoch 00019: val_accuracy did not improve from 0.02778\n",
            "63/63 - 56s - loss: 2.1026 - accuracy: 0.4257 - val_loss: 94.1726 - val_accuracy: 0.0200\n",
            "Epoch 20/99\n",
            "\n",
            "Epoch 00020: val_accuracy did not improve from 0.02778\n",
            "63/63 - 56s - loss: 1.9777 - accuracy: 0.4550 - val_loss: 61.1511 - val_accuracy: 0.0217\n",
            "Epoch 21/99\n",
            "\n",
            "Epoch 00021: val_accuracy improved from 0.02778 to 0.04167, saving model to cnn3.hdf5\n",
            "63/63 - 56s - loss: 1.9292 - accuracy: 0.4698 - val_loss: 33.4839 - val_accuracy: 0.0417\n",
            "Epoch 22/99\n",
            "\n",
            "Epoch 00022: val_accuracy did not improve from 0.04167\n",
            "63/63 - 56s - loss: 1.8364 - accuracy: 0.4991 - val_loss: 44.3871 - val_accuracy: 0.0278\n",
            "Epoch 23/99\n",
            "\n",
            "Epoch 00023: val_accuracy did not improve from 0.04167\n",
            "63/63 - 56s - loss: 1.7483 - accuracy: 0.5175 - val_loss: 33.3183 - val_accuracy: 0.0295\n",
            "Epoch 24/99\n",
            "\n",
            "Epoch 00024: val_accuracy did not improve from 0.04167\n",
            "63/63 - 56s - loss: 1.6892 - accuracy: 0.5331 - val_loss: 39.0562 - val_accuracy: 0.0391\n",
            "Epoch 25/99\n",
            "\n",
            "Epoch 00025: val_accuracy did not improve from 0.04167\n",
            "63/63 - 57s - loss: 1.6540 - accuracy: 0.5356 - val_loss: 72.4111 - val_accuracy: 0.0122\n",
            "Epoch 26/99\n",
            "\n",
            "Epoch 00026: val_accuracy did not improve from 0.04167\n",
            "63/63 - 57s - loss: 1.5873 - accuracy: 0.5527 - val_loss: 58.6078 - val_accuracy: 0.0252\n",
            "Epoch 27/99\n",
            "\n",
            "Epoch 00027: val_accuracy did not improve from 0.04167\n",
            "63/63 - 57s - loss: 1.5597 - accuracy: 0.5570 - val_loss: 62.9658 - val_accuracy: 0.0139\n",
            "Epoch 28/99\n",
            "\n",
            "Epoch 00028: val_accuracy did not improve from 0.04167\n",
            "63/63 - 57s - loss: 1.4979 - accuracy: 0.5848 - val_loss: 25.4692 - val_accuracy: 0.0252\n",
            "Epoch 29/99\n",
            "\n",
            "Epoch 00029: val_accuracy did not improve from 0.04167\n",
            "63/63 - 58s - loss: 1.4295 - accuracy: 0.5932 - val_loss: 41.1203 - val_accuracy: 0.0408\n",
            "Epoch 30/99\n",
            "\n",
            "Epoch 00030: val_accuracy did not improve from 0.04167\n",
            "63/63 - 58s - loss: 1.3929 - accuracy: 0.5949 - val_loss: 29.8259 - val_accuracy: 0.0217\n",
            "Epoch 31/99\n",
            "\n",
            "Epoch 00031: val_accuracy did not improve from 0.04167\n",
            "63/63 - 58s - loss: 1.3242 - accuracy: 0.6215 - val_loss: 61.5169 - val_accuracy: 0.0269\n",
            "Epoch 32/99\n",
            "\n",
            "Epoch 00032: val_accuracy did not improve from 0.04167\n",
            "63/63 - 58s - loss: 1.3435 - accuracy: 0.6150 - val_loss: 88.1050 - val_accuracy: 0.0130\n",
            "Epoch 33/99\n",
            "\n",
            "Epoch 00033: val_accuracy did not improve from 0.04167\n",
            "63/63 - 58s - loss: 1.2629 - accuracy: 0.6386 - val_loss: 54.8047 - val_accuracy: 0.0269\n",
            "Epoch 34/99\n",
            "\n",
            "Epoch 00034: val_accuracy did not improve from 0.04167\n",
            "63/63 - 59s - loss: 1.2243 - accuracy: 0.6399 - val_loss: 66.5538 - val_accuracy: 0.0304\n",
            "Epoch 35/99\n",
            "\n",
            "Epoch 00035: val_accuracy did not improve from 0.04167\n",
            "63/63 - 60s - loss: 1.2006 - accuracy: 0.6461 - val_loss: 64.4712 - val_accuracy: 0.0182\n",
            "Epoch 36/99\n",
            "\n",
            "Epoch 00036: val_accuracy did not improve from 0.04167\n",
            "63/63 - 59s - loss: 1.1751 - accuracy: 0.6543 - val_loss: 64.8799 - val_accuracy: 0.0226\n",
            "Epoch 37/99\n",
            "\n",
            "Epoch 00037: val_accuracy did not improve from 0.04167\n",
            "63/63 - 59s - loss: 1.1704 - accuracy: 0.6488 - val_loss: 67.0627 - val_accuracy: 0.0139\n",
            "Epoch 38/99\n",
            "\n",
            "Epoch 00038: val_accuracy did not improve from 0.04167\n",
            "63/63 - 59s - loss: 1.1046 - accuracy: 0.6766 - val_loss: 239.3667 - val_accuracy: 0.0156\n",
            "Epoch 39/99\n",
            "\n",
            "Epoch 00039: val_accuracy did not improve from 0.04167\n",
            "63/63 - 59s - loss: 1.0666 - accuracy: 0.6880 - val_loss: 112.6999 - val_accuracy: 0.0191\n",
            "Epoch 40/99\n",
            "\n",
            "Epoch 00040: val_accuracy did not improve from 0.04167\n",
            "63/63 - 59s - loss: 1.0820 - accuracy: 0.6806 - val_loss: 91.9480 - val_accuracy: 0.0208\n",
            "Epoch 41/99\n",
            "\n",
            "Epoch 00041: val_accuracy did not improve from 0.04167\n",
            "63/63 - 60s - loss: 1.0128 - accuracy: 0.7051 - val_loss: 128.9562 - val_accuracy: 0.0148\n",
            "Epoch 42/99\n",
            "\n",
            "Epoch 00042: val_accuracy did not improve from 0.04167\n",
            "63/63 - 60s - loss: 1.0070 - accuracy: 0.6994 - val_loss: 174.4992 - val_accuracy: 0.0156\n",
            "Epoch 43/99\n",
            "\n",
            "Epoch 00043: val_accuracy did not improve from 0.04167\n",
            "63/63 - 60s - loss: 0.9591 - accuracy: 0.7200 - val_loss: 240.2563 - val_accuracy: 0.0243\n",
            "Epoch 44/99\n",
            "\n",
            "Epoch 00044: val_accuracy did not improve from 0.04167\n",
            "63/63 - 60s - loss: 0.9275 - accuracy: 0.7285 - val_loss: 45.7226 - val_accuracy: 0.0234\n",
            "Epoch 45/99\n",
            "\n",
            "Epoch 00045: val_accuracy did not improve from 0.04167\n",
            "63/63 - 60s - loss: 0.9069 - accuracy: 0.7285 - val_loss: 108.6501 - val_accuracy: 0.0174\n",
            "Epoch 46/99\n",
            "\n",
            "Epoch 00046: val_accuracy did not improve from 0.04167\n",
            "63/63 - 60s - loss: 0.8994 - accuracy: 0.7305 - val_loss: 33.8825 - val_accuracy: 0.0382\n",
            "Epoch 47/99\n",
            "\n",
            "Epoch 00047: val_accuracy did not improve from 0.04167\n",
            "63/63 - 60s - loss: 0.9006 - accuracy: 0.7329 - val_loss: 96.9888 - val_accuracy: 0.0122\n",
            "Epoch 48/99\n",
            "\n",
            "Epoch 00048: val_accuracy did not improve from 0.04167\n",
            "63/63 - 60s - loss: 0.8884 - accuracy: 0.7394 - val_loss: 74.7936 - val_accuracy: 0.0200\n",
            "Epoch 49/99\n",
            "\n",
            "Epoch 00049: val_accuracy did not improve from 0.04167\n",
            "63/63 - 60s - loss: 0.8578 - accuracy: 0.7446 - val_loss: 216.6474 - val_accuracy: 0.0122\n",
            "Epoch 50/99\n",
            "\n",
            "Epoch 00050: val_accuracy did not improve from 0.04167\n",
            "63/63 - 60s - loss: 0.8475 - accuracy: 0.7491 - val_loss: 84.6892 - val_accuracy: 0.0252\n",
            "Epoch 51/99\n",
            "\n",
            "Epoch 00051: val_accuracy did not improve from 0.04167\n",
            "63/63 - 61s - loss: 0.8150 - accuracy: 0.7555 - val_loss: 130.2221 - val_accuracy: 0.0200\n",
            "Epoch 52/99\n",
            "\n",
            "Epoch 00052: val_accuracy did not improve from 0.04167\n",
            "63/63 - 61s - loss: 0.7948 - accuracy: 0.7565 - val_loss: 72.6604 - val_accuracy: 0.0139\n",
            "Epoch 53/99\n",
            "\n",
            "Epoch 00053: val_accuracy did not improve from 0.04167\n",
            "63/63 - 61s - loss: 0.7808 - accuracy: 0.7600 - val_loss: 80.2703 - val_accuracy: 0.0191\n",
            "Epoch 54/99\n",
            "\n",
            "Epoch 00054: val_accuracy did not improve from 0.04167\n",
            "63/63 - 61s - loss: 0.7790 - accuracy: 0.7635 - val_loss: 61.6491 - val_accuracy: 0.0156\n",
            "Epoch 55/99\n",
            "\n",
            "Epoch 00055: val_accuracy did not improve from 0.04167\n",
            "63/63 - 61s - loss: 0.7263 - accuracy: 0.7801 - val_loss: 76.6109 - val_accuracy: 0.0122\n",
            "Epoch 56/99\n",
            "\n",
            "Epoch 00056: val_accuracy did not improve from 0.04167\n",
            "63/63 - 61s - loss: 0.7117 - accuracy: 0.7878 - val_loss: 186.3316 - val_accuracy: 0.0174\n",
            "Epoch 57/99\n",
            "\n",
            "Epoch 00057: val_accuracy did not improve from 0.04167\n",
            "63/63 - 61s - loss: 0.6983 - accuracy: 0.7843 - val_loss: 77.6387 - val_accuracy: 0.0269\n",
            "Epoch 58/99\n",
            "\n",
            "Epoch 00058: val_accuracy did not improve from 0.04167\n",
            "63/63 - 61s - loss: 0.6889 - accuracy: 0.7935 - val_loss: 61.2277 - val_accuracy: 0.0182\n",
            "Epoch 59/99\n",
            "\n",
            "Epoch 00059: val_accuracy did not improve from 0.04167\n",
            "63/63 - 61s - loss: 0.6702 - accuracy: 0.7945 - val_loss: 137.8062 - val_accuracy: 0.0156\n",
            "Epoch 60/99\n",
            "\n",
            "Epoch 00060: val_accuracy did not improve from 0.04167\n",
            "63/63 - 61s - loss: 0.6650 - accuracy: 0.8039 - val_loss: 68.8845 - val_accuracy: 0.0156\n",
            "Epoch 61/99\n",
            "\n",
            "Epoch 00061: val_accuracy did not improve from 0.04167\n",
            "63/63 - 61s - loss: 0.6537 - accuracy: 0.7995 - val_loss: 74.8626 - val_accuracy: 0.0208\n",
            "Epoch 62/99\n",
            "\n",
            "Epoch 00062: val_accuracy did not improve from 0.04167\n",
            "63/63 - 61s - loss: 0.6172 - accuracy: 0.8057 - val_loss: 58.5881 - val_accuracy: 0.0156\n",
            "Epoch 63/99\n",
            "\n",
            "Epoch 00063: val_accuracy did not improve from 0.04167\n",
            "63/63 - 61s - loss: 0.6492 - accuracy: 0.8007 - val_loss: 57.6207 - val_accuracy: 0.0278\n",
            "Epoch 64/99\n",
            "\n",
            "Epoch 00064: val_accuracy did not improve from 0.04167\n",
            "63/63 - 61s - loss: 0.5973 - accuracy: 0.8188 - val_loss: 74.9171 - val_accuracy: 0.0148\n",
            "Epoch 65/99\n",
            "\n",
            "Epoch 00065: val_accuracy did not improve from 0.04167\n",
            "63/63 - 61s - loss: 0.6007 - accuracy: 0.8106 - val_loss: 86.3322 - val_accuracy: 0.0295\n",
            "Epoch 66/99\n",
            "\n",
            "Epoch 00066: val_accuracy did not improve from 0.04167\n",
            "63/63 - 61s - loss: 0.6120 - accuracy: 0.8148 - val_loss: 62.1540 - val_accuracy: 0.0269\n",
            "Epoch 67/99\n",
            "\n",
            "Epoch 00067: val_accuracy did not improve from 0.04167\n",
            "63/63 - 61s - loss: 0.5972 - accuracy: 0.8153 - val_loss: 63.3512 - val_accuracy: 0.0148\n",
            "Epoch 68/99\n",
            "\n",
            "Epoch 00068: val_accuracy did not improve from 0.04167\n",
            "63/63 - 61s - loss: 0.5819 - accuracy: 0.8228 - val_loss: 203.5553 - val_accuracy: 0.0156\n",
            "Epoch 69/99\n",
            "\n",
            "Epoch 00069: val_accuracy did not improve from 0.04167\n",
            "63/63 - 61s - loss: 0.5916 - accuracy: 0.8121 - val_loss: 43.7315 - val_accuracy: 0.0269\n",
            "Epoch 70/99\n",
            "\n",
            "Epoch 00070: val_accuracy did not improve from 0.04167\n",
            "63/63 - 61s - loss: 0.5425 - accuracy: 0.8325 - val_loss: 75.0306 - val_accuracy: 0.0217\n",
            "Epoch 71/99\n",
            "\n",
            "Epoch 00071: val_accuracy did not improve from 0.04167\n",
            "63/63 - 61s - loss: 0.5689 - accuracy: 0.8258 - val_loss: 75.5107 - val_accuracy: 0.0260\n",
            "Epoch 72/99\n",
            "\n",
            "Epoch 00072: val_accuracy did not improve from 0.04167\n",
            "63/63 - 61s - loss: 0.5641 - accuracy: 0.8282 - val_loss: 115.1912 - val_accuracy: 0.0243\n",
            "Epoch 73/99\n",
            "\n",
            "Epoch 00073: val_accuracy did not improve from 0.04167\n",
            "63/63 - 61s - loss: 0.5141 - accuracy: 0.8426 - val_loss: 70.4539 - val_accuracy: 0.0226\n",
            "Epoch 74/99\n",
            "\n",
            "Epoch 00074: val_accuracy did not improve from 0.04167\n",
            "63/63 - 61s - loss: 0.5345 - accuracy: 0.8307 - val_loss: 96.0957 - val_accuracy: 0.0252\n",
            "Epoch 75/99\n",
            "\n",
            "Epoch 00075: val_accuracy improved from 0.04167 to 0.04427, saving model to cnn3.hdf5\n",
            "63/63 - 61s - loss: 0.5101 - accuracy: 0.8429 - val_loss: 44.6755 - val_accuracy: 0.0443\n",
            "Epoch 76/99\n",
            "\n",
            "Epoch 00076: val_accuracy did not improve from 0.04427\n",
            "63/63 - 61s - loss: 0.4993 - accuracy: 0.8481 - val_loss: 45.3364 - val_accuracy: 0.0417\n",
            "Epoch 77/99\n",
            "\n",
            "Epoch 00077: val_accuracy did not improve from 0.04427\n",
            "63/63 - 61s - loss: 0.5274 - accuracy: 0.8337 - val_loss: 113.0452 - val_accuracy: 0.0252\n",
            "Epoch 78/99\n",
            "\n",
            "Epoch 00078: val_accuracy did not improve from 0.04427\n",
            "63/63 - 61s - loss: 0.4999 - accuracy: 0.8441 - val_loss: 44.5888 - val_accuracy: 0.0286\n",
            "Epoch 79/99\n",
            "\n",
            "Epoch 00079: val_accuracy did not improve from 0.04427\n",
            "63/63 - 61s - loss: 0.5048 - accuracy: 0.8436 - val_loss: 95.7295 - val_accuracy: 0.0156\n",
            "Epoch 80/99\n",
            "\n",
            "Epoch 00080: val_accuracy did not improve from 0.04427\n",
            "63/63 - 61s - loss: 0.4631 - accuracy: 0.8578 - val_loss: 182.0161 - val_accuracy: 0.0156\n",
            "Epoch 81/99\n",
            "\n",
            "Epoch 00081: val_accuracy did not improve from 0.04427\n",
            "63/63 - 61s - loss: 0.4526 - accuracy: 0.8580 - val_loss: 191.7666 - val_accuracy: 0.0156\n",
            "Epoch 82/99\n",
            "\n",
            "Epoch 00082: val_accuracy did not improve from 0.04427\n",
            "63/63 - 61s - loss: 0.4606 - accuracy: 0.8546 - val_loss: 55.2720 - val_accuracy: 0.0312\n",
            "Epoch 83/99\n",
            "\n",
            "Epoch 00083: val_accuracy did not improve from 0.04427\n",
            "63/63 - 61s - loss: 0.4379 - accuracy: 0.8652 - val_loss: 78.9069 - val_accuracy: 0.0226\n",
            "Epoch 84/99\n",
            "\n",
            "Epoch 00084: val_accuracy did not improve from 0.04427\n",
            "63/63 - 61s - loss: 0.4494 - accuracy: 0.8541 - val_loss: 81.0296 - val_accuracy: 0.0347\n",
            "Epoch 85/99\n",
            "\n",
            "Epoch 00085: val_accuracy did not improve from 0.04427\n",
            "63/63 - 61s - loss: 0.4690 - accuracy: 0.8518 - val_loss: 52.9473 - val_accuracy: 0.0243\n",
            "Epoch 86/99\n",
            "\n",
            "Epoch 00086: val_accuracy did not improve from 0.04427\n",
            "63/63 - 61s - loss: 0.4352 - accuracy: 0.8652 - val_loss: 48.4169 - val_accuracy: 0.0356\n",
            "Epoch 87/99\n",
            "\n",
            "Epoch 00087: val_accuracy did not improve from 0.04427\n",
            "63/63 - 61s - loss: 0.4367 - accuracy: 0.8642 - val_loss: 86.4482 - val_accuracy: 0.0208\n",
            "Epoch 88/99\n",
            "\n",
            "Epoch 00088: val_accuracy did not improve from 0.04427\n",
            "63/63 - 61s - loss: 0.4403 - accuracy: 0.8640 - val_loss: 55.4287 - val_accuracy: 0.0269\n",
            "Epoch 89/99\n",
            "\n",
            "Epoch 00089: val_accuracy did not improve from 0.04427\n",
            "63/63 - 61s - loss: 0.4196 - accuracy: 0.8707 - val_loss: 314.2523 - val_accuracy: 0.0200\n",
            "Epoch 90/99\n",
            "\n",
            "Epoch 00090: val_accuracy did not improve from 0.04427\n",
            "63/63 - 61s - loss: 0.4424 - accuracy: 0.8595 - val_loss: 61.4591 - val_accuracy: 0.0174\n",
            "Epoch 91/99\n",
            "\n",
            "Epoch 00091: val_accuracy did not improve from 0.04427\n",
            "63/63 - 61s - loss: 0.4113 - accuracy: 0.8791 - val_loss: 45.1544 - val_accuracy: 0.0122\n",
            "Epoch 92/99\n",
            "\n",
            "Epoch 00092: val_accuracy did not improve from 0.04427\n",
            "63/63 - 61s - loss: 0.4137 - accuracy: 0.8747 - val_loss: 106.4984 - val_accuracy: 0.0191\n",
            "Epoch 93/99\n",
            "\n",
            "Epoch 00093: val_accuracy did not improve from 0.04427\n",
            "63/63 - 61s - loss: 0.4273 - accuracy: 0.8724 - val_loss: 102.8182 - val_accuracy: 0.0174\n",
            "Epoch 94/99\n",
            "\n",
            "Epoch 00094: val_accuracy did not improve from 0.04427\n",
            "63/63 - 61s - loss: 0.4303 - accuracy: 0.8600 - val_loss: 164.9133 - val_accuracy: 0.0243\n",
            "Epoch 95/99\n",
            "\n",
            "Epoch 00095: val_accuracy did not improve from 0.04427\n",
            "63/63 - 62s - loss: 0.4056 - accuracy: 0.8717 - val_loss: 144.8778 - val_accuracy: 0.0243\n",
            "Epoch 96/99\n",
            "\n",
            "Epoch 00096: val_accuracy did not improve from 0.04427\n",
            "63/63 - 62s - loss: 0.4266 - accuracy: 0.8662 - val_loss: 72.3576 - val_accuracy: 0.0200\n",
            "Epoch 97/99\n",
            "\n",
            "Epoch 00097: val_accuracy did not improve from 0.04427\n",
            "63/63 - 61s - loss: 0.4135 - accuracy: 0.8677 - val_loss: 80.8279 - val_accuracy: 0.0339\n",
            "Epoch 98/99\n",
            "\n",
            "Epoch 00098: val_accuracy did not improve from 0.04427\n",
            "63/63 - 61s - loss: 0.3668 - accuracy: 0.8848 - val_loss: 120.2994 - val_accuracy: 0.0312\n",
            "Epoch 99/99\n",
            "\n",
            "Epoch 00099: val_accuracy did not improve from 0.04427\n",
            "63/63 - 61s - loss: 0.3831 - accuracy: 0.8821 - val_loss: 73.0205 - val_accuracy: 0.0234\n"
          ],
          "name": "stdout"
        }
      ]
    },
    {
      "cell_type": "code",
      "metadata": {
        "id": "6MU4wr92HxRg",
        "outputId": "ecc60879-447f-45dd-bd0d-4954fec3ba81",
        "colab": {
          "base_uri": "https://localhost:8080/"
        }
      },
      "source": [
        "test_eval = model.evaluate(x_test, y_test, verbose=2)"
      ],
      "execution_count": null,
      "outputs": [
        {
          "output_type": "stream",
          "text": [
            "37/37 - 2s - loss: 73.9483 - accuracy: 0.0190\n"
          ],
          "name": "stdout"
        }
      ]
    },
    {
      "cell_type": "code",
      "metadata": {
        "id": "OJMNDeacHxUc"
      },
      "source": [
        "y_pred = model.predict(x_test)\n",
        "y_pred = np.argmax(y_pred,axis=1).astype(int)\n",
        "y_true = np.argmax(y_test,axis = 1).astype(int)"
      ],
      "execution_count": null,
      "outputs": []
    },
    {
      "cell_type": "code",
      "metadata": {
        "id": "kOK7_nB4HxX5",
        "outputId": "bcfdc07b-6c03-47a9-8d5f-8af3e0201b8f",
        "colab": {
          "base_uri": "https://localhost:8080/",
          "height": 545
        }
      },
      "source": [
        "acc = model_dropout.history['accuracy']\n",
        "val_acc = model_dropout.history['val_accuracy']\n",
        "loss = model_dropout.history['loss']\n",
        "val_loss = model_dropout.history['val_loss']\n",
        "epochs = range(1, len(acc) + 1)\n",
        "#Train and validation accuracy\n",
        "plt.plot(epochs, acc, 'b', label='Training accurarcy')\n",
        "plt.plot(epochs, val_acc, 'r', label='Validation accurarcy')\n",
        "plt.title('Training and Validation accurarcy')\n",
        "plt.legend()\n",
        "\n",
        "plt.figure()\n",
        "#Train and validation loss\n",
        "plt.plot(epochs, loss, 'b', label='Training loss')\n",
        "plt.plot(epochs, val_loss, 'r', label='Validation loss')\n",
        "plt.title('Training and Validation loss')\n",
        "plt.legend()\n",
        "plt.show()"
      ],
      "execution_count": null,
      "outputs": [
        {
          "output_type": "display_data",
          "data": {
            "image/png": "[encoded data removed]",
            "text/plain": [
              "<Figure size 432x288 with 1 Axes>"
            ]
          },
          "metadata": {
            "tags": [],
            "needs_background": "light"
          }
        },
        {
          "output_type": "display_data",
          "data": {
            "image/png": "[encoded data removed]",
            "text/plain": [
              "<Figure size 432x288 with 1 Axes>"
            ]
          },
          "metadata": {
            "tags": [],
            "needs_background": "light"
          }
        }
      ]
    },
    {
      "cell_type": "code",
      "metadata": {
        "id": "8h3SPZS8Hxba",
        "outputId": "b432b873-53a9-4e31-a9ef-c85debc1cfa6",
        "colab": {
          "base_uri": "https://localhost:8080/"
        }
      },
      "source": [
        "corr=[]\n",
        "incorr=[]\n",
        "corr_count=0\n",
        "incorr_count=0\n",
        "\n",
        "for i in range(len(y_test)):\n",
        "    if(y_pred[i]==y_true[i]):\n",
        "        corr.append(i)\n",
        "        corr_count+=1\n",
        "    else:\n",
        "        incorr.append(i)\n",
        "        incorr_count+=1\n",
        "        \n",
        "print(\"Found %d correct\" %(corr_count))\n",
        "print(\"Found %d incorrect \" %(incorr_count))"
      ],
      "execution_count": null,
      "outputs": [
        {
          "output_type": "stream",
          "text": [
            "Found 22 correct\n",
            "Found 1133 incorrect \n"
          ],
          "name": "stdout"
        }
      ]
    },
    {
      "cell_type": "code",
      "metadata": {
        "id": "FYv5MD9i-asg"
      },
      "source": [
        "y_pred = model.predict(x_test)\n",
        "\n",
        "# plot a random sample of test images, their predicted labels, and ground truth\n",
        "fig = plt.figure(figsize=(16, 9))\n",
        "for i, idx in enumerate(np.random.choice(x_test.shape[0], size=16, replace=False)):\n",
        "    ax = fig.add_subplot(4, 4, i + 1, xticks=[], yticks=[])\n",
        "    ax.imshow(np.squeeze(x_test[idx]))\n",
        "    pred_idx = np.argmax(y_pred[idx])\n",
        "    true_idx = np.argmax(y_test[idx])\n",
        "    ax.set_title(\"{} ({})\".format(target_labels[pred_idx], target_labels[true_idx]),\n",
        "                 color=(\"green\" if pred_idx == true_idx else \"red\"))"
      ],
      "execution_count": null,
      "outputs": []
    }
  ]
}